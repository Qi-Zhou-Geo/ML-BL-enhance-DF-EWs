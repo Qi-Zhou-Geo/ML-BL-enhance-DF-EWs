{
 "cells": [
  {
   "cell_type": "code",
   "execution_count": 3,
   "metadata": {},
   "outputs": [],
   "source": [
    "import sys\n",
    "sys.path.append(\"../../data\")"
   ]
  },
  {
   "cell_type": "code",
   "execution_count": 5,
   "metadata": {},
   "outputs": [],
   "source": [
    "from data_from_GFZ_server import load_seismic_signal"
   ]
  },
  {
   "cell_type": "code",
   "execution_count": 13,
   "metadata": {},
   "outputs": [],
   "source": [
    "import pandas as pd\n",
    "from obspy import UTCDateTime"
   ]
  },
  {
   "cell_type": "code",
   "execution_count": 54,
   "metadata": {},
   "outputs": [
    {
     "data": {
      "text/html": [
       "<div>\n",
       "<style scoped>\n",
       "    .dataframe tbody tr th:only-of-type {\n",
       "        vertical-align: middle;\n",
       "    }\n",
       "\n",
       "    .dataframe tbody tr th {\n",
       "        vertical-align: top;\n",
       "    }\n",
       "\n",
       "    .dataframe thead th {\n",
       "        text-align: right;\n",
       "    }\n",
       "</style>\n",
       "<table border=\"1\" class=\"dataframe\">\n",
       "  <thead>\n",
       "    <tr style=\"text-align: right;\">\n",
       "      <th></th>\n",
       "      <th>Type</th>\n",
       "      <th>CD1ArrivalTime(UTC+0)</th>\n",
       "      <th>Start(UTC+0)</th>\n",
       "      <th>End(UTC+0)</th>\n",
       "      <th>Source</th>\n",
       "      <th>DataStation</th>\n",
       "    </tr>\n",
       "    <tr>\n",
       "      <th>Index</th>\n",
       "      <th></th>\n",
       "      <th></th>\n",
       "      <th></th>\n",
       "      <th></th>\n",
       "      <th></th>\n",
       "      <th></th>\n",
       "    </tr>\n",
       "  </thead>\n",
       "  <tbody>\n",
       "    <tr>\n",
       "      <th>38</th>\n",
       "      <td>DF</td>\n",
       "      <td>2019-07-02 22:09:28</td>\n",
       "      <td>2019-07-02 22:09:00</td>\n",
       "      <td>2019-07-02 23:20:00</td>\n",
       "      <td>WSL</td>\n",
       "      <td>ILL12</td>\n",
       "    </tr>\n",
       "    <tr>\n",
       "      <th>39</th>\n",
       "      <td>DF</td>\n",
       "      <td>2019-07-03 16:43:15</td>\n",
       "      <td>2019-07-03 16:45:00</td>\n",
       "      <td>2019-07-03 17:55:00</td>\n",
       "      <td>WSL</td>\n",
       "      <td>ILL12</td>\n",
       "    </tr>\n",
       "    <tr>\n",
       "      <th>40</th>\n",
       "      <td>DF</td>\n",
       "      <td>2019-07-15 03:40:21</td>\n",
       "      <td>2019-07-15 03:35:00</td>\n",
       "      <td>2019-07-15 05:10:00</td>\n",
       "      <td>WSL</td>\n",
       "      <td>ILL12</td>\n",
       "    </tr>\n",
       "    <tr>\n",
       "      <th>41</th>\n",
       "      <td>DF</td>\n",
       "      <td>2019-07-26 17:33:12</td>\n",
       "      <td>2019-07-26 17:33:00</td>\n",
       "      <td>2019-07-26 18:50:00</td>\n",
       "      <td>WSL</td>\n",
       "      <td>ILL12</td>\n",
       "    </tr>\n",
       "    <tr>\n",
       "      <th>42</th>\n",
       "      <td>DF</td>\n",
       "      <td>2019-08-11 17:02:34</td>\n",
       "      <td>2019-08-11 17:00:00</td>\n",
       "      <td>2019-08-11 18:15:00</td>\n",
       "      <td>WSL</td>\n",
       "      <td>ILL12</td>\n",
       "    </tr>\n",
       "    <tr>\n",
       "      <th>43</th>\n",
       "      <td>DF</td>\n",
       "      <td>2019-08-20 16:40:59</td>\n",
       "      <td>2019-08-20 16:40:00</td>\n",
       "      <td>2019-08-20 18:00:00</td>\n",
       "      <td>WSL</td>\n",
       "      <td>ILL12</td>\n",
       "    </tr>\n",
       "    <tr>\n",
       "      <th>44</th>\n",
       "      <td>DF</td>\n",
       "      <td>2019-10-09 11:45:28</td>\n",
       "      <td>2019-10-09 11:45:00</td>\n",
       "      <td>2019-10-09 12:45:00</td>\n",
       "      <td>WSL</td>\n",
       "      <td>ILL12</td>\n",
       "    </tr>\n",
       "    <tr>\n",
       "      <th>45</th>\n",
       "      <td>DF</td>\n",
       "      <td>2019-10-15 16:10:50</td>\n",
       "      <td>2019-10-15 16:10:00</td>\n",
       "      <td>2019-10-15 16:55:00</td>\n",
       "      <td>WSL</td>\n",
       "      <td>ILL12</td>\n",
       "    </tr>\n",
       "    <tr>\n",
       "      <th>46</th>\n",
       "      <td>DF</td>\n",
       "      <td>No Data</td>\n",
       "      <td>2020-06-04 15:10:00</td>\n",
       "      <td>2020-06-04 17:35:00</td>\n",
       "      <td>WSL</td>\n",
       "      <td>ILL12</td>\n",
       "    </tr>\n",
       "    <tr>\n",
       "      <th>47</th>\n",
       "      <td>DF</td>\n",
       "      <td>No Data</td>\n",
       "      <td>2020-06-07 07:55:00</td>\n",
       "      <td>2020-06-07 10:15:00</td>\n",
       "      <td>WSL</td>\n",
       "      <td>ILL12</td>\n",
       "    </tr>\n",
       "    <tr>\n",
       "      <th>48</th>\n",
       "      <td>DF</td>\n",
       "      <td>No Data</td>\n",
       "      <td>2020-06-08 14:00:00</td>\n",
       "      <td>2020-06-08 15:15:00</td>\n",
       "      <td>WSL</td>\n",
       "      <td>ILL12</td>\n",
       "    </tr>\n",
       "    <tr>\n",
       "      <th>49</th>\n",
       "      <td>DF</td>\n",
       "      <td>No Data</td>\n",
       "      <td>2020-06-08 16:50:00</td>\n",
       "      <td>2020-06-08 18:25:00</td>\n",
       "      <td>WSL</td>\n",
       "      <td>ILL12</td>\n",
       "    </tr>\n",
       "    <tr>\n",
       "      <th>50</th>\n",
       "      <td>F?</td>\n",
       "      <td>No Data</td>\n",
       "      <td>2020-06-10 00:25:00</td>\n",
       "      <td>2020-06-10 01:20:00</td>\n",
       "      <td>WSL</td>\n",
       "      <td>ILL12</td>\n",
       "    </tr>\n",
       "    <tr>\n",
       "      <th>51</th>\n",
       "      <td>DF</td>\n",
       "      <td>No Data</td>\n",
       "      <td>2020-06-16 23:30:00</td>\n",
       "      <td>2020-06-17 00:00:00</td>\n",
       "      <td>WSL</td>\n",
       "      <td>ILL12</td>\n",
       "    </tr>\n",
       "    <tr>\n",
       "      <th>52</th>\n",
       "      <td>DF</td>\n",
       "      <td>No Data</td>\n",
       "      <td>2020-06-17 01:30:00</td>\n",
       "      <td>2020-06-17 02:45:00</td>\n",
       "      <td>WSL</td>\n",
       "      <td>ILL12</td>\n",
       "    </tr>\n",
       "    <tr>\n",
       "      <th>53</th>\n",
       "      <td>DF</td>\n",
       "      <td>No Data</td>\n",
       "      <td>2020-06-17 03:25:00</td>\n",
       "      <td>2020-06-17 05:20:00</td>\n",
       "      <td>WSL</td>\n",
       "      <td>ILL12</td>\n",
       "    </tr>\n",
       "    <tr>\n",
       "      <th>54</th>\n",
       "      <td>DF</td>\n",
       "      <td>No Data</td>\n",
       "      <td>2020-06-29 04:50:00</td>\n",
       "      <td>2020-06-29 06:20:00</td>\n",
       "      <td>WSL</td>\n",
       "      <td>ILL12</td>\n",
       "    </tr>\n",
       "    <tr>\n",
       "      <th>55</th>\n",
       "      <td>DF</td>\n",
       "      <td>No Data</td>\n",
       "      <td>2020-07-28 16:50:00</td>\n",
       "      <td>2020-07-28 18:30:00</td>\n",
       "      <td>WSL</td>\n",
       "      <td>ILL12</td>\n",
       "    </tr>\n",
       "    <tr>\n",
       "      <th>56</th>\n",
       "      <td>DF</td>\n",
       "      <td>No Data</td>\n",
       "      <td>2020-08-16 21:25:00</td>\n",
       "      <td>2020-08-16 22:50:00</td>\n",
       "      <td>WSL</td>\n",
       "      <td>ILL12</td>\n",
       "    </tr>\n",
       "    <tr>\n",
       "      <th>57</th>\n",
       "      <td>DF</td>\n",
       "      <td>No Data</td>\n",
       "      <td>2020-08-30 05:20:00</td>\n",
       "      <td>2020-08-30 12:35:00</td>\n",
       "      <td>WSL</td>\n",
       "      <td>ILL12</td>\n",
       "    </tr>\n",
       "  </tbody>\n",
       "</table>\n",
       "</div>"
      ],
      "text/plain": [
       "      Type CD1ArrivalTime(UTC+0)         Start(UTC+0)           End(UTC+0)  \\\n",
       "Index                                                                        \n",
       "38      DF   2019-07-02 22:09:28  2019-07-02 22:09:00  2019-07-02 23:20:00   \n",
       "39      DF   2019-07-03 16:43:15  2019-07-03 16:45:00  2019-07-03 17:55:00   \n",
       "40      DF   2019-07-15 03:40:21  2019-07-15 03:35:00  2019-07-15 05:10:00   \n",
       "41      DF   2019-07-26 17:33:12  2019-07-26 17:33:00  2019-07-26 18:50:00   \n",
       "42      DF   2019-08-11 17:02:34  2019-08-11 17:00:00  2019-08-11 18:15:00   \n",
       "43      DF   2019-08-20 16:40:59  2019-08-20 16:40:00  2019-08-20 18:00:00   \n",
       "44      DF   2019-10-09 11:45:28  2019-10-09 11:45:00  2019-10-09 12:45:00   \n",
       "45      DF   2019-10-15 16:10:50  2019-10-15 16:10:00  2019-10-15 16:55:00   \n",
       "46      DF               No Data  2020-06-04 15:10:00  2020-06-04 17:35:00   \n",
       "47      DF               No Data  2020-06-07 07:55:00  2020-06-07 10:15:00   \n",
       "48      DF               No Data  2020-06-08 14:00:00  2020-06-08 15:15:00   \n",
       "49      DF               No Data  2020-06-08 16:50:00  2020-06-08 18:25:00   \n",
       "50      F?               No Data  2020-06-10 00:25:00  2020-06-10 01:20:00   \n",
       "51      DF               No Data  2020-06-16 23:30:00  2020-06-17 00:00:00   \n",
       "52      DF               No Data  2020-06-17 01:30:00  2020-06-17 02:45:00   \n",
       "53      DF               No Data  2020-06-17 03:25:00  2020-06-17 05:20:00   \n",
       "54      DF               No Data  2020-06-29 04:50:00  2020-06-29 06:20:00   \n",
       "55      DF               No Data  2020-07-28 16:50:00  2020-07-28 18:30:00   \n",
       "56      DF               No Data  2020-08-16 21:25:00  2020-08-16 22:50:00   \n",
       "57      DF               No Data  2020-08-30 05:20:00  2020-08-30 12:35:00   \n",
       "\n",
       "      Source DataStation  \n",
       "Index                     \n",
       "38       WSL       ILL12  \n",
       "39       WSL       ILL12  \n",
       "40       WSL       ILL12  \n",
       "41       WSL       ILL12  \n",
       "42       WSL       ILL12  \n",
       "43       WSL       ILL12  \n",
       "44       WSL       ILL12  \n",
       "45       WSL       ILL12  \n",
       "46       WSL       ILL12  \n",
       "47       WSL       ILL12  \n",
       "48       WSL       ILL12  \n",
       "49       WSL       ILL12  \n",
       "50       WSL       ILL12  \n",
       "51       WSL       ILL12  \n",
       "52       WSL       ILL12  \n",
       "53       WSL       ILL12  \n",
       "54       WSL       ILL12  \n",
       "55       WSL       ILL12  \n",
       "56       WSL       ILL12  \n",
       "57       WSL       ILL12  "
      ]
     },
     "execution_count": 54,
     "metadata": {},
     "output_type": "execute_result"
    }
   ],
   "source": [
    "df = pd.read_csv(\"../DF_events/58 DF-BL events.txt\", header=0, index_col=\"Index\")\n",
    "df.tail(20)"
   ]
  },
  {
   "cell_type": "code",
   "execution_count": 84,
   "metadata": {},
   "outputs": [],
   "source": [
    "def _get_user_request_df(index:int=None, start_time:UTCDateTime=None, end_time:UTCDateTime=None) -> pd.DataFrame | pd.Series:\n",
    "    if index is not None:\n",
    "        df = pd.read_csv(\"../DF_events/58 DF-BL events.txt\", header=0, index_col=\"Index\")\n",
    "        if index < len(df):\n",
    "            df = df.iloc[index]\n",
    "            return df\n",
    "        else:\n",
    "            print(f\"Index {index} is greater than the number of DF events ({len(df)})\")\n",
    "    else:\n",
    "        pass\n",
    "\n",
    "    if start_time is not None and end_time is not None:\n",
    "        df = pd.read_csv(\"../DF_events/58 DF-BL events.txt\", header=0, index_col=\"Index\")\n",
    "        df = df[df[\"Start(UTC+0)\"] <= end_time]\n",
    "        df = df[df[\" End(UTC+0)\"] >= start_time]\n",
    "        return df\n",
    "    else:\n",
    "        pass\n",
    "\n",
    "def _get_juldays(df:pd.DataFrame | pd.Series = None, start_time:UTCDateTime = None, end_time:UTCDateTime = None):\n",
    "    julday_set = set()\n",
    "    if df is not None:\n",
    "        if type(df) == pd.Series:\n",
    "            julday_set.add(str(UTCDateTime(df['Start(UTC+0)']).julday).zfill(3))\n",
    "            julday_set.add(str(UTCDateTime(df[' End(UTC+0)']).julday).zfill(3))\n",
    "        else:\n",
    "            print(f\"Enter a pandas Series object. Entered {type(df)}\")\n",
    "    \n",
    "    if start_time is not None and end_time is not None:\n",
    "        for i in range(start_time.julday, end_time.julday+1):\n",
    "            julday_set.add(str(i).zfill(3))\n",
    "\n",
    "    return julday_set"
   ]
  },
  {
   "cell_type": "code",
   "execution_count": 111,
   "metadata": {},
   "outputs": [],
   "source": [
    "x = UTCDateTime(\"2018-08-05 00:00:00\")\n",
    "y = UTCDateTime(\"2018-08-10 00:00:00\")"
   ]
  },
  {
   "cell_type": "code",
   "execution_count": 112,
   "metadata": {},
   "outputs": [],
   "source": [
    "df1 = _get_user_request_response(start_time=x, end_time= y)"
   ]
  },
  {
   "cell_type": "code",
   "execution_count": 113,
   "metadata": {},
   "outputs": [
    {
     "data": {
      "text/html": [
       "<div>\n",
       "<style scoped>\n",
       "    .dataframe tbody tr th:only-of-type {\n",
       "        vertical-align: middle;\n",
       "    }\n",
       "\n",
       "    .dataframe tbody tr th {\n",
       "        vertical-align: top;\n",
       "    }\n",
       "\n",
       "    .dataframe thead th {\n",
       "        text-align: right;\n",
       "    }\n",
       "</style>\n",
       "<table border=\"1\" class=\"dataframe\">\n",
       "  <thead>\n",
       "    <tr style=\"text-align: right;\">\n",
       "      <th></th>\n",
       "      <th>Type</th>\n",
       "      <th>CD1ArrivalTime(UTC+0)</th>\n",
       "      <th>Start(UTC+0)</th>\n",
       "      <th>End(UTC+0)</th>\n",
       "      <th>Source</th>\n",
       "      <th>DataStation</th>\n",
       "    </tr>\n",
       "    <tr>\n",
       "      <th>Index</th>\n",
       "      <th></th>\n",
       "      <th></th>\n",
       "      <th></th>\n",
       "      <th></th>\n",
       "      <th></th>\n",
       "      <th></th>\n",
       "    </tr>\n",
       "  </thead>\n",
       "  <tbody>\n",
       "    <tr>\n",
       "      <th>32</th>\n",
       "      <td>DF</td>\n",
       "      <td>2018-08-08 17:49:25</td>\n",
       "      <td>2018-08-08 17:45:00</td>\n",
       "      <td>2018-08-08 18:30:00</td>\n",
       "      <td>WSL</td>\n",
       "      <td>ILL12</td>\n",
       "    </tr>\n",
       "  </tbody>\n",
       "</table>\n",
       "</div>"
      ],
      "text/plain": [
       "      Type CD1ArrivalTime(UTC+0)         Start(UTC+0)           End(UTC+0)  \\\n",
       "Index                                                                        \n",
       "32      DF   2018-08-08 17:49:25  2018-08-08 17:45:00  2018-08-08 18:30:00   \n",
       "\n",
       "      Source DataStation  \n",
       "Index                     \n",
       "32       WSL       ILL12  "
      ]
     },
     "execution_count": 113,
     "metadata": {},
     "output_type": "execute_result"
    }
   ],
   "source": [
    "df1"
   ]
  },
  {
   "cell_type": "code",
   "execution_count": 89,
   "metadata": {},
   "outputs": [],
   "source": [
    "df2 = _get_user_request_response(index=40)"
   ]
  },
  {
   "cell_type": "code",
   "execution_count": 90,
   "metadata": {},
   "outputs": [
    {
     "data": {
      "text/plain": [
       "{'121', '122', '123', '124', '125', '126', '127', '128', '129', '130'}"
      ]
     },
     "execution_count": 90,
     "metadata": {},
     "output_type": "execute_result"
    }
   ],
   "source": [
    "_get_juldays(start_time=x, end_time=y)"
   ]
  },
  {
   "cell_type": "code",
   "execution_count": null,
   "metadata": {},
   "outputs": [],
   "source": [
    "st = load_seismic_signal(data_start= x, data_end= y, station= \"ILL12\")\n"
   ]
  },
  {
   "cell_type": "code",
   "execution_count": 99,
   "metadata": {},
   "outputs": [
    {
     "data": {
      "text/plain": [
       "27.0"
      ]
     },
     "execution_count": 99,
     "metadata": {},
     "output_type": "execute_result"
    }
   ],
   "source": [
    "(y-x) // (3600) // 8"
   ]
  },
  {
   "cell_type": "code",
   "execution_count": 100,
   "metadata": {},
   "outputs": [],
   "source": [
    "def _get_data_duration(start_time:UTCDateTime, end_time:UTCDateTime):\n",
    "    return (end_time - start_time) // 3600, (end_time - start_time) // (3600 * 8)"
   ]
  },
  {
   "cell_type": "code",
   "execution_count": 101,
   "metadata": {},
   "outputs": [
    {
     "data": {
      "text/plain": [
       "(216.0, 27.0)"
      ]
     },
     "execution_count": 101,
     "metadata": {},
     "output_type": "execute_result"
    }
   ],
   "source": [
    "_get_data_duration(x,y)"
   ]
  },
  {
   "cell_type": "code",
   "execution_count": null,
   "metadata": {},
   "outputs": [],
   "source": []
  }
 ],
 "metadata": {
  "kernelspec": {
   "display_name": "base",
   "language": "python",
   "name": "python3"
  },
  "language_info": {
   "codemirror_mode": {
    "name": "ipython",
    "version": 3
   },
   "file_extension": ".py",
   "mimetype": "text/x-python",
   "name": "python",
   "nbconvert_exporter": "python",
   "pygments_lexer": "ipython3",
   "version": "3.11.7"
  }
 },
 "nbformat": 4,
 "nbformat_minor": 2
}
